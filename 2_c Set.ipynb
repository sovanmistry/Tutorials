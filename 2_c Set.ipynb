{
 "cells": [
  {
   "cell_type": "raw",
   "id": "fc5fe13f-eb87-4dc8-b769-270b1bde3a44",
   "metadata": {},
   "source": [
    "                                                           SET"
   ]
  },
  {
   "cell_type": "code",
   "execution_count": 2,
   "id": "db4395c9-a9bd-4ad0-bc57-a73ed3845d2f",
   "metadata": {},
   "outputs": [],
   "source": [
    "s1 = { }"
   ]
  },
  {
   "cell_type": "code",
   "execution_count": 4,
   "id": "ddf8e7b3-11f5-4da7-b842-34f55a38a061",
   "metadata": {},
   "outputs": [
    {
     "data": {
      "text/plain": [
       "dict"
      ]
     },
     "execution_count": 4,
     "metadata": {},
     "output_type": "execute_result"
    }
   ],
   "source": [
    "type(s1)"
   ]
  },
  {
   "cell_type": "code",
   "execution_count": 6,
   "id": "763efca2-e349-4c98-95ae-0f42a7b958d3",
   "metadata": {},
   "outputs": [
    {
     "data": {
      "text/plain": [
       "set"
      ]
     },
     "execution_count": 6,
     "metadata": {},
     "output_type": "execute_result"
    }
   ],
   "source": [
    "s1 = {1,2,3,4}\n",
    "type(s1)"
   ]
  },
  {
   "cell_type": "code",
   "execution_count": 8,
   "id": "bcab04ab-2ca7-41c3-8f22-5e299f912e89",
   "metadata": {},
   "outputs": [
    {
     "ename": "TypeError",
     "evalue": "unhashable type: 'list'",
     "output_type": "error",
     "traceback": [
      "\u001b[0;31m---------------------------------------------------------------------------\u001b[0m",
      "\u001b[0;31mTypeError\u001b[0m                                 Traceback (most recent call last)",
      "Cell \u001b[0;32mIn[8], line 2\u001b[0m\n\u001b[1;32m      1\u001b[0m \u001b[38;5;66;03m#set can't add mutable elements (List) as SET is Immutable\u001b[39;00m\n\u001b[0;32m----> 2\u001b[0m s1 \u001b[38;5;241m=\u001b[39m { \u001b[38;5;241m1\u001b[39m,\u001b[38;5;241m2\u001b[39m,\u001b[38;5;241m3\u001b[39m, [\u001b[38;5;241m5\u001b[39m,\u001b[38;5;241m6\u001b[39m]}\n",
      "\u001b[0;31mTypeError\u001b[0m: unhashable type: 'list'"
     ]
    }
   ],
   "source": [
    "#set can't add mutable elements (List) as SET is Immutable\n",
    "s1 = { 1,2,3, [5,6]}"
   ]
  },
  {
   "cell_type": "code",
   "execution_count": 11,
   "id": "9e85e18c-f8fe-412e-985e-c0d30e87c173",
   "metadata": {},
   "outputs": [
    {
     "data": {
      "text/plain": [
       "{(4, 5), 1, 2, 3}"
      ]
     },
     "execution_count": 11,
     "metadata": {},
     "output_type": "execute_result"
    }
   ],
   "source": [
    "s1 = {1,2,3,(4,5)}\n",
    "s1"
   ]
  },
  {
   "cell_type": "code",
   "execution_count": 14,
   "id": "f88304e5-4d10-4f50-af3f-bb4e95c60c5b",
   "metadata": {},
   "outputs": [
    {
     "data": {
      "text/plain": [
       "{1, 2, 3}"
      ]
     },
     "execution_count": 14,
     "metadata": {},
     "output_type": "execute_result"
    }
   ],
   "source": [
    "#set removes all duplicates data\n",
    "s1 = {1, 1, 1, 1, 2, 3}\n",
    "s1"
   ]
  },
  {
   "cell_type": "code",
   "execution_count": null,
   "id": "ffb641e6-5111-4ad5-8a3c-e8fe90be6aad",
   "metadata": {},
   "outputs": [],
   "source": []
  }
 ],
 "metadata": {
  "kernelspec": {
   "display_name": "Python 3 (ipykernel)",
   "language": "python",
   "name": "python3"
  },
  "language_info": {
   "codemirror_mode": {
    "name": "ipython",
    "version": 3
   },
   "file_extension": ".py",
   "mimetype": "text/x-python",
   "name": "python",
   "nbconvert_exporter": "python",
   "pygments_lexer": "ipython3",
   "version": "3.10.8"
  }
 },
 "nbformat": 4,
 "nbformat_minor": 5
}
