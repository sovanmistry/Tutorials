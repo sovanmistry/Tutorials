{
 "cells": [
  {
   "cell_type": "markdown",
   "id": "f9929a21",
   "metadata": {},
   "source": [
    "LIST"
   ]
  },
  {
   "cell_type": "code",
   "execution_count": 8,
   "id": "f6364610",
   "metadata": {},
   "outputs": [],
   "source": [
    "l = [5,\"Baap\",4,3.2, \"word\", 5+8j]"
   ]
  },
  {
   "cell_type": "code",
   "execution_count": 12,
   "id": "9d18ba11",
   "metadata": {},
   "outputs": [
    {
     "data": {
      "text/plain": [
       "[5, 4, 3.2, 'Baap', 'word', (5+8j)]"
      ]
     },
     "execution_count": 12,
     "metadata": {},
     "output_type": "execute_result"
    }
   ],
   "source": [
    "l"
   ]
  },
  {
   "cell_type": "code",
   "execution_count": 9,
   "id": "d2d4589f",
   "metadata": {},
   "outputs": [
    {
     "data": {
      "text/plain": [
       "list"
      ]
     },
     "execution_count": 9,
     "metadata": {},
     "output_type": "execute_result"
    }
   ],
   "source": [
    "type(l)"
   ]
  },
  {
   "cell_type": "code",
   "execution_count": 10,
   "id": "0790e8e0",
   "metadata": {},
   "outputs": [
    {
     "data": {
      "text/plain": [
       "3.2"
      ]
     },
     "execution_count": 10,
     "metadata": {},
     "output_type": "execute_result"
    }
   ],
   "source": [
    "l[3]"
   ]
  },
  {
   "cell_type": "code",
   "execution_count": 11,
   "id": "9bb0b749",
   "metadata": {},
   "outputs": [
    {
     "ename": "IndexError",
     "evalue": "list index out of range",
     "output_type": "error",
     "traceback": [
      "\u001b[1;31m---------------------------------------------------------------------------\u001b[0m",
      "\u001b[1;31mIndexError\u001b[0m                                Traceback (most recent call last)",
      "\u001b[1;32m~\\AppData\\Local\\Temp\\ipykernel_17356\\2290771669.py\u001b[0m in \u001b[0;36m<module>\u001b[1;34m\u001b[0m\n\u001b[1;32m----> 1\u001b[1;33m \u001b[0ml\u001b[0m\u001b[1;33m[\u001b[0m\u001b[1;36m90\u001b[0m\u001b[1;33m]\u001b[0m\u001b[1;33m\u001b[0m\u001b[1;33m\u001b[0m\u001b[0m\n\u001b[0m",
      "\u001b[1;31mIndexError\u001b[0m: list index out of range"
     ]
    }
   ],
   "source": [
    "l[90]"
   ]
  },
  {
   "cell_type": "code",
   "execution_count": 13,
   "id": "0a33ff2f",
   "metadata": {},
   "outputs": [
    {
     "data": {
      "text/plain": [
       "[5, 'Baap', 4]"
      ]
     },
     "execution_count": 13,
     "metadata": {},
     "output_type": "execute_result"
    }
   ],
   "source": [
    "l[:3]"
   ]
  },
  {
   "cell_type": "code",
   "execution_count": 31,
   "id": "70b22c56",
   "metadata": {},
   "outputs": [
    {
     "ename": "NameError",
     "evalue": "name 'l' is not defined",
     "output_type": "error",
     "traceback": [
      "\u001b[1;31m---------------------------------------------------------------------------\u001b[0m",
      "\u001b[1;31mNameError\u001b[0m                                 Traceback (most recent call last)",
      "\u001b[1;32m~\\AppData\\Local\\Temp\\ipykernel_16308\\279078737.py\u001b[0m in \u001b[0;36m<module>\u001b[1;34m\u001b[0m\n\u001b[1;32m----> 1\u001b[1;33m \u001b[0ml\u001b[0m\u001b[1;33m[\u001b[0m\u001b[1;33m-\u001b[0m\u001b[1;36m1\u001b[0m\u001b[1;33m]\u001b[0m\u001b[1;33m\u001b[0m\u001b[1;33m\u001b[0m\u001b[0m\n\u001b[0m",
      "\u001b[1;31mNameError\u001b[0m: name 'l' is not defined"
     ]
    }
   ],
   "source": [
    "l[-1]"
   ]
  },
  {
   "cell_type": "markdown",
   "id": "8d52c86b",
   "metadata": {},
   "source": [
    "# LIST with INDEXING "
   ]
  },
  {
   "cell_type": "code",
   "execution_count": 17,
   "id": "557c12e8",
   "metadata": {},
   "outputs": [
    {
     "data": {
      "text/plain": [
       "[(5+8j), 'word', 3.2, 4, 'Baap', 5]"
      ]
     },
     "execution_count": 17,
     "metadata": {},
     "output_type": "execute_result"
    }
   ],
   "source": [
    "#reverse a String in LIST\n",
    "l[::-1]"
   ]
  },
  {
   "cell_type": "code",
   "execution_count": 24,
   "id": "1ba4bcb5",
   "metadata": {},
   "outputs": [
    {
     "data": {
      "text/plain": [
       "['Baap', 3.2, (5+8j)]"
      ]
     },
     "execution_count": 24,
     "metadata": {},
     "output_type": "execute_result"
    }
   ],
   "source": [
    "#Extract the Data of EVEN INDEXes only\n",
    "l[1::2]"
   ]
  },
  {
   "cell_type": "markdown",
   "id": "f7e0c95b",
   "metadata": {},
   "source": []
  },
  {
   "cell_type": "code",
   "execution_count": null,
   "id": "4b51c007",
   "metadata": {},
   "outputs": [],
   "source": []
  },
  {
   "cell_type": "code",
   "execution_count": null,
   "id": "742005f6",
   "metadata": {},
   "outputs": [],
   "source": []
  },
  {
   "cell_type": "markdown",
   "id": "41507977",
   "metadata": {},
   "source": [
    "# ADDITION OF ELEMENTS IN LIST\n",
    "    append()\n",
    "    +\n",
    "    extend()\n",
    "    insert()"
   ]
  },
  {
   "cell_type": "code",
   "execution_count": 28,
   "id": "9f894c8f",
   "metadata": {},
   "outputs": [],
   "source": [
    "s = \"PwSkills\""
   ]
  },
  {
   "cell_type": "code",
   "execution_count": 29,
   "id": "2af10c85",
   "metadata": {
    "scrolled": true
   },
   "outputs": [
    {
     "data": {
      "text/plain": [
       "[5, 'Baap', 4, 3.2, 'word', (5+8j), 'PwSkills', 'PwSkills', 'PwSkills']"
      ]
     },
     "execution_count": 29,
     "metadata": {},
     "output_type": "execute_result"
    }
   ],
   "source": [
    "l.append(s)\n",
    "l"
   ]
  },
  {
   "cell_type": "code",
   "execution_count": 32,
   "id": "5ec4f10c",
   "metadata": {},
   "outputs": [
    {
     "data": {
      "text/plain": [
       "'Pw'"
      ]
     },
     "execution_count": 32,
     "metadata": {},
     "output_type": "execute_result"
    }
   ],
   "source": [
    "#Extract Pw from the list\n",
    "l[6][0:2]"
   ]
  },
  {
   "cell_type": "code",
   "execution_count": 34,
   "id": "32749bc9",
   "metadata": {},
   "outputs": [
    {
     "data": {
      "text/plain": [
       "[3, 4, 5, 3, 4, 5, 3, 4, 5]"
      ]
     },
     "execution_count": 34,
     "metadata": {},
     "output_type": "execute_result"
    }
   ],
   "source": [
    "#Operations on list\n",
    "\n",
    "l1 = [3,4,5]\n",
    "l1 = l1*3\n",
    "l1"
   ]
  },
  {
   "cell_type": "code",
   "execution_count": 35,
   "id": "d23dcd61",
   "metadata": {},
   "outputs": [
    {
     "data": {
      "text/plain": [
       "[5,\n",
       " 'Baap',\n",
       " 4,\n",
       " 3.2,\n",
       " 'word',\n",
       " (5+8j),\n",
       " 'PwSkills',\n",
       " 'PwSkills',\n",
       " 'PwSkills',\n",
       " 3,\n",
       " 4,\n",
       " 5,\n",
       " 3,\n",
       " 4,\n",
       " 5,\n",
       " 3,\n",
       " 4,\n",
       " 5]"
      ]
     },
     "execution_count": 35,
     "metadata": {},
     "output_type": "execute_result"
    }
   ],
   "source": [
    "#concat l and l1\n",
    "l+l1"
   ]
  },
  {
   "cell_type": "code",
   "execution_count": 36,
   "id": "f12ad798",
   "metadata": {},
   "outputs": [
    {
     "data": {
      "text/plain": [
       "9"
      ]
     },
     "execution_count": 36,
     "metadata": {},
     "output_type": "execute_result"
    }
   ],
   "source": [
    "#length of a String\n",
    "len(l1)"
   ]
  },
  {
   "cell_type": "code",
   "execution_count": 45,
   "id": "dcd54a8f",
   "metadata": {},
   "outputs": [
    {
     "data": {
      "text/plain": [
       "[3, 4, 5, 'Baap', 'Power']"
      ]
     },
     "execution_count": 45,
     "metadata": {},
     "output_type": "execute_result"
    }
   ],
   "source": [
    "l1 = [3,4,5]\n",
    "l2 = [\"Baap\", \"Power\"]\n",
    "l2 = l1 + l2\n",
    "l2"
   ]
  },
  {
   "cell_type": "code",
   "execution_count": 48,
   "id": "1ff83dc5",
   "metadata": {},
   "outputs": [
    {
     "data": {
      "text/plain": [
       "[3, 4, 5, 'Baap', 'Power', 5, 5, 5]"
      ]
     },
     "execution_count": 48,
     "metadata": {},
     "output_type": "execute_result"
    }
   ],
   "source": [
    "l2.append(5)\n",
    "l2"
   ]
  },
  {
   "cell_type": "code",
   "execution_count": 50,
   "id": "c6e5ffc4",
   "metadata": {},
   "outputs": [],
   "source": [
    "l2.append(s)"
   ]
  },
  {
   "cell_type": "code",
   "execution_count": 54,
   "id": "3c05459a",
   "metadata": {},
   "outputs": [
    {
     "data": {
      "text/plain": [
       "[3,\n",
       " 4,\n",
       " 5,\n",
       " 'Baap',\n",
       " 'Power',\n",
       " 5,\n",
       " 5,\n",
       " 5,\n",
       " 'PwSkills',\n",
       " 'PwSkills',\n",
       " [...],\n",
       " [...],\n",
       " [...]]"
      ]
     },
     "execution_count": 54,
     "metadata": {},
     "output_type": "execute_result"
    }
   ],
   "source": [
    "l2.append(l2)\n",
    "l2"
   ]
  },
  {
   "cell_type": "code",
   "execution_count": 57,
   "id": "85984de7",
   "metadata": {},
   "outputs": [
    {
     "data": {
      "text/plain": [
       "[3,\n",
       " 4,\n",
       " 5,\n",
       " 'Baap',\n",
       " 'Power',\n",
       " 5,\n",
       " 5,\n",
       " 5,\n",
       " 'PwSkills',\n",
       " 'PwSkills',\n",
       " [...],\n",
       " [...],\n",
       " [...]]"
      ]
     },
     "execution_count": 57,
     "metadata": {},
     "output_type": "execute_result"
    }
   ],
   "source": [
    "l2[-1][-3]"
   ]
  },
  {
   "cell_type": "markdown",
   "id": "69ab1b68",
   "metadata": {},
   "source": [
    "/// use of Extend\n",
    "\n",
    "unWrap the data and add the values \n",
    "eg. for a string, it will unwrap it to char and then add it.\n",
    "for a list, it will unwrap it to value and add it///"
   ]
  },
  {
   "cell_type": "code",
   "execution_count": 59,
   "id": "45e7b624",
   "metadata": {},
   "outputs": [
    {
     "data": {
      "text/plain": [
       "[3, 4, 5]"
      ]
     },
     "execution_count": 59,
     "metadata": {},
     "output_type": "execute_result"
    }
   ],
   "source": [
    "l1"
   ]
  },
  {
   "cell_type": "code",
   "execution_count": 61,
   "id": "dca1db21",
   "metadata": {},
   "outputs": [
    {
     "ename": "TypeError",
     "evalue": "'int' object is not iterable",
     "output_type": "error",
     "traceback": [
      "\u001b[1;31m---------------------------------------------------------------------------\u001b[0m",
      "\u001b[1;31mTypeError\u001b[0m                                 Traceback (most recent call last)",
      "\u001b[1;32m~\\AppData\\Local\\Temp\\ipykernel_17356\\1372912905.py\u001b[0m in \u001b[0;36m<module>\u001b[1;34m\u001b[0m\n\u001b[1;32m----> 1\u001b[1;33m \u001b[0ml1\u001b[0m\u001b[1;33m.\u001b[0m\u001b[0mextend\u001b[0m\u001b[1;33m(\u001b[0m\u001b[1;36m1\u001b[0m\u001b[1;33m)\u001b[0m\u001b[1;33m\u001b[0m\u001b[1;33m\u001b[0m\u001b[0m\n\u001b[0m",
      "\u001b[1;31mTypeError\u001b[0m: 'int' object is not iterable"
     ]
    }
   ],
   "source": [
    "l1.extend(1)"
   ]
  },
  {
   "cell_type": "code",
   "execution_count": 63,
   "id": "635b41af",
   "metadata": {},
   "outputs": [],
   "source": [
    "l1.extend(\"Kill\")"
   ]
  },
  {
   "cell_type": "code",
   "execution_count": 64,
   "id": "cd28aaaa",
   "metadata": {},
   "outputs": [
    {
     "data": {
      "text/plain": [
       "[3, 4, 5, 'K', 'i', 'l', 'l']"
      ]
     },
     "execution_count": 64,
     "metadata": {},
     "output_type": "execute_result"
    }
   ],
   "source": [
    "l1"
   ]
  },
  {
   "cell_type": "code",
   "execution_count": 67,
   "id": "bd9d4228",
   "metadata": {},
   "outputs": [
    {
     "data": {
      "text/plain": [
       "[3,\n",
       " 4,\n",
       " 5,\n",
       " 'K',\n",
       " 'i',\n",
       " 'l',\n",
       " 'l',\n",
       " 3,\n",
       " 4,\n",
       " 5,\n",
       " 'K',\n",
       " 'i',\n",
       " 'l',\n",
       " 'l',\n",
       " 3,\n",
       " 4,\n",
       " 5,\n",
       " 'K',\n",
       " 'i',\n",
       " 'l',\n",
       " 'l',\n",
       " 3,\n",
       " 4,\n",
       " 5,\n",
       " 'K',\n",
       " 'i',\n",
       " 'l',\n",
       " 'l',\n",
       " 3,\n",
       " 4,\n",
       " 5,\n",
       " 'K',\n",
       " 'i',\n",
       " 'l',\n",
       " 'l',\n",
       " 3,\n",
       " 4,\n",
       " 5,\n",
       " 'K',\n",
       " 'i',\n",
       " 'l',\n",
       " 'l',\n",
       " 3,\n",
       " 4,\n",
       " 5,\n",
       " 'K',\n",
       " 'i',\n",
       " 'l',\n",
       " 'l',\n",
       " 3,\n",
       " 4,\n",
       " 5,\n",
       " 'K',\n",
       " 'i',\n",
       " 'l',\n",
       " 'l']"
      ]
     },
     "execution_count": 67,
     "metadata": {},
     "output_type": "execute_result"
    }
   ],
   "source": [
    "l1.extend(l1)\n",
    "l1"
   ]
  },
  {
   "cell_type": "code",
   "execution_count": 2,
   "id": "09ad3ff4",
   "metadata": {},
   "outputs": [],
   "source": [
    "l3=[1,2,3]"
   ]
  },
  {
   "cell_type": "markdown",
   "id": "80c7f8b8",
   "metadata": {},
   "source": [
    "Position wise Inserting through insert()"
   ]
  },
  {
   "cell_type": "code",
   "execution_count": 73,
   "id": "62afb17c",
   "metadata": {},
   "outputs": [
    {
     "data": {
      "text/plain": [
       "['India', 'India', 1, 2, 3]"
      ]
     },
     "execution_count": 73,
     "metadata": {},
     "output_type": "execute_result"
    }
   ],
   "source": [
    "#insert a data in the first position/ BEFORE Indexes  - INSERT \n",
    "\n",
    "l3.insert(0,'India')\n",
    "l3"
   ]
  },
  {
   "cell_type": "code",
   "execution_count": 6,
   "id": "d4e7417e",
   "metadata": {},
   "outputs": [
    {
     "data": {
      "text/plain": [
       "[1, 2, 'Ball', 'Ball', 3]"
      ]
     },
     "execution_count": 6,
     "metadata": {},
     "output_type": "execute_result"
    }
   ],
   "source": [
    "l3.insert(-1,\"Ball\")\n",
    "l3"
   ]
  },
  {
   "cell_type": "code",
   "execution_count": 8,
   "id": "8191edac",
   "metadata": {},
   "outputs": [
    {
     "data": {
      "text/plain": [
       "[1, 2, 'Ball']"
      ]
     },
     "execution_count": 8,
     "metadata": {},
     "output_type": "execute_result"
    }
   ],
   "source": [
    "#POP\n",
    "\n",
    "l3.pop()\n",
    "l3"
   ]
  },
  {
   "cell_type": "code",
   "execution_count": 12,
   "id": "64d1ddcc",
   "metadata": {},
   "outputs": [
    {
     "data": {
      "text/plain": [
       "[1, 2]"
      ]
     },
     "execution_count": 12,
     "metadata": {},
     "output_type": "execute_result"
    }
   ],
   "source": [
    "#POP from Specific position\n",
    "l3=[1,2,3]\n",
    "l3.pop(2)\n",
    "l3"
   ]
  },
  {
   "cell_type": "markdown",
   "id": "294530f4",
   "metadata": {},
   "source": [
    "#POP = remove the Indexes \n",
    "#Remove = remove the ELements"
   ]
  },
  {
   "cell_type": "code",
   "execution_count": 19,
   "id": "3f29425d",
   "metadata": {},
   "outputs": [
    {
     "data": {
      "text/plain": [
       "[2, 3, [1, 2, 3, 'sudh']]"
      ]
     },
     "execution_count": 19,
     "metadata": {},
     "output_type": "execute_result"
    }
   ],
   "source": [
    "#REMOVE = it removes the first occurence of a value\n",
    "l3 = [1,2,3,[1,2,3,\"sudh\"]]\n",
    "l3.remove(1)\n",
    "l3"
   ]
  },
  {
   "cell_type": "code",
   "execution_count": 20,
   "id": "b60a4b7d",
   "metadata": {},
   "outputs": [
    {
     "data": {
      "text/plain": [
       "[2, 3, [1, 3, 'sudh']]"
      ]
     },
     "execution_count": 20,
     "metadata": {},
     "output_type": "execute_result"
    }
   ],
   "source": [
    "#remove a list inside another list\n",
    "\n",
    "l3[2].remove(2)\n",
    "l3"
   ]
  },
  {
   "cell_type": "code",
   "execution_count": 21,
   "id": "2363f1f4",
   "metadata": {},
   "outputs": [],
   "source": [
    "#remove a \"dh\" from \"sudh\" inside another list\n",
    "#not possible.. "
   ]
  },
  {
   "cell_type": "code",
   "execution_count": null,
   "id": "2e572409",
   "metadata": {},
   "outputs": [],
   "source": [
    "l3=[1,2,3,4,4]\n",
    "#can we remove 2 4s at a time?  ----> NOT POSSIBLE,\n",
    "#remove only removes the first occurence of the element. \n",
    "\n"
   ]
  },
  {
   "cell_type": "markdown",
   "id": "1ea7eb0b",
   "metadata": {},
   "source": [
    "# REVERSE"
   ]
  },
  {
   "cell_type": "code",
   "execution_count": 23,
   "id": "f94781fe",
   "metadata": {},
   "outputs": [],
   "source": [
    "l3=[1,2,3,4,4]"
   ]
  },
  {
   "cell_type": "code",
   "execution_count": 25,
   "id": "d35dfb1a",
   "metadata": {},
   "outputs": [
    {
     "data": {
      "text/plain": [
       "[4, 4, 3, 2, 1]"
      ]
     },
     "execution_count": 25,
     "metadata": {},
     "output_type": "execute_result"
    }
   ],
   "source": [
    "l3[::-1] \n",
    "# TEMPORARY REVERSE = original l1 cant be changed"
   ]
  },
  {
   "cell_type": "code",
   "execution_count": 27,
   "id": "439846ec",
   "metadata": {},
   "outputs": [
    {
     "data": {
      "text/plain": [
       "[1, 2, 3, 4, 4]"
      ]
     },
     "execution_count": 27,
     "metadata": {},
     "output_type": "execute_result"
    }
   ],
   "source": [
    "l3.reverse()\n",
    "l3\n",
    "#reverse() used for permanent reverse "
   ]
  },
  {
   "cell_type": "code",
   "execution_count": 29,
   "id": "2c0e43a3",
   "metadata": {},
   "outputs": [
    {
     "data": {
      "text/plain": [
       "[4, 4, 3, 2, 1]"
      ]
     },
     "execution_count": 29,
     "metadata": {},
     "output_type": "execute_result"
    }
   ],
   "source": [
    "#permanent reverse through indexing = we should include REASSIGNMENT of that variable.... \n",
    "l3=[1,2,3,4,4]\n",
    "l3 = l3[::-1]\n",
    "l3"
   ]
  },
  {
   "cell_type": "markdown",
   "id": "99612fa7",
   "metadata": {},
   "source": [
    "# Sorting\n",
    "sort()"
   ]
  },
  {
   "cell_type": "code",
   "execution_count": 33,
   "id": "9205562b",
   "metadata": {},
   "outputs": [
    {
     "data": {
      "text/plain": [
       "[2, 3, 12, 23, 33, 33, 45, 66, 1121]"
      ]
     },
     "execution_count": 33,
     "metadata": {},
     "output_type": "execute_result"
    }
   ],
   "source": [
    "l4 = [45, 12,3,2,66,23,1121,33,33]\n",
    "l4.sort()\n",
    "l4"
   ]
  },
  {
   "cell_type": "code",
   "execution_count": 35,
   "id": "81862003",
   "metadata": {},
   "outputs": [
    {
     "ename": "TypeError",
     "evalue": "'<' not supported between instances of 'str' and 'int'",
     "output_type": "error",
     "traceback": [
      "\u001b[1;31m---------------------------------------------------------------------------\u001b[0m",
      "\u001b[1;31mTypeError\u001b[0m                                 Traceback (most recent call last)",
      "\u001b[1;32m~\\AppData\\Local\\Temp\\ipykernel_16308\\1107337006.py\u001b[0m in \u001b[0;36m<module>\u001b[1;34m\u001b[0m\n\u001b[0;32m      1\u001b[0m \u001b[0ml4\u001b[0m \u001b[1;33m=\u001b[0m \u001b[1;33m[\u001b[0m\u001b[1;36m45\u001b[0m\u001b[1;33m,\u001b[0m \u001b[1;34m\"BAAP\"\u001b[0m\u001b[1;33m,\u001b[0m\u001b[1;33m[\u001b[0m\u001b[1;36m2\u001b[0m\u001b[1;33m,\u001b[0m\u001b[1;36m3\u001b[0m\u001b[1;33m,\u001b[0m\u001b[1;36m2\u001b[0m\u001b[1;33m]\u001b[0m\u001b[1;33m,\u001b[0m\u001b[1;36m66\u001b[0m\u001b[1;33m,\u001b[0m\u001b[1;36m23\u001b[0m\u001b[1;33m,\u001b[0m\u001b[1;36m1121\u001b[0m\u001b[1;33m,\u001b[0m\u001b[1;36m33\u001b[0m\u001b[1;33m,\u001b[0m\u001b[1;36m33\u001b[0m\u001b[1;33m]\u001b[0m\u001b[1;33m\u001b[0m\u001b[1;33m\u001b[0m\u001b[0m\n\u001b[1;32m----> 2\u001b[1;33m \u001b[0ml4\u001b[0m\u001b[1;33m.\u001b[0m\u001b[0msort\u001b[0m\u001b[1;33m(\u001b[0m\u001b[1;33m)\u001b[0m\u001b[1;33m\u001b[0m\u001b[1;33m\u001b[0m\u001b[0m\n\u001b[0m",
      "\u001b[1;31mTypeError\u001b[0m: '<' not supported between instances of 'str' and 'int'"
     ]
    }
   ],
   "source": [
    "l4 = [45, \"BAAP\",[2,3,2],66,23,1121,33,33]\n",
    "l4.sort()"
   ]
  },
  {
   "cell_type": "markdown",
   "id": "26bea926",
   "metadata": {},
   "source": [
    "Sort is working only with similar data type. "
   ]
  },
  {
   "cell_type": "code",
   "execution_count": 41,
   "id": "835793b0",
   "metadata": {},
   "outputs": [
    {
     "data": {
      "text/plain": [
       "[1121, 66, 45, 33, 33, 23, 12, 3, 2]"
      ]
     },
     "execution_count": 41,
     "metadata": {},
     "output_type": "execute_result"
    }
   ],
   "source": [
    "l4 = [45, 12,3,2,66,23,1121,33,33]\n",
    "l4.sort(reverse = True)\n",
    "l4"
   ]
  },
  {
   "cell_type": "code",
   "execution_count": 43,
   "id": "1a56891f",
   "metadata": {},
   "outputs": [
    {
     "data": {
      "text/plain": [
       "['Bullet', 'KTM', 'Suzuki', 'Yamaha']"
      ]
     },
     "execution_count": 43,
     "metadata": {},
     "output_type": "execute_result"
    }
   ],
   "source": [
    "l5= [\"Bullet\", \"Yamaha\", \"Suzuki\", \"KTM\"]\n",
    "l5.sort()\n",
    "l5"
   ]
  },
  {
   "cell_type": "code",
   "execution_count": 46,
   "id": "404cee17",
   "metadata": {},
   "outputs": [
    {
     "data": {
      "text/plain": [
       "['Yamaha', 'Suzuki', 'KTM', 'Bullet']"
      ]
     },
     "execution_count": 46,
     "metadata": {},
     "output_type": "execute_result"
    }
   ],
   "source": [
    "l5.sort(reverse= True)\n",
    "l5"
   ]
  },
  {
   "cell_type": "code",
   "execution_count": 52,
   "id": "71e6ecc2",
   "metadata": {},
   "outputs": [
    {
     "data": {
      "text/plain": [
       "1"
      ]
     },
     "execution_count": 52,
     "metadata": {},
     "output_type": "execute_result"
    }
   ],
   "source": [
    "l5.count('KTM')"
   ]
  },
  {
   "cell_type": "code",
   "execution_count": 56,
   "id": "7f2255ac",
   "metadata": {},
   "outputs": [
    {
     "data": {
      "text/plain": [
       "2"
      ]
     },
     "execution_count": 56,
     "metadata": {},
     "output_type": "execute_result"
    }
   ],
   "source": [
    "l5.index(\"KTM\")"
   ]
  },
  {
   "cell_type": "markdown",
   "id": "4511da35",
   "metadata": {},
   "source": [
    "# Replace of ELement \n",
    "\n",
    "list = immutable = possible,\n",
    "\n",
    "\n",
    "str = mutable = no replacement possible"
   ]
  },
  {
   "cell_type": "code",
   "execution_count": 57,
   "id": "c5ee4c81",
   "metadata": {},
   "outputs": [
    {
     "data": {
      "text/plain": [
       "1"
      ]
     },
     "execution_count": 57,
     "metadata": {},
     "output_type": "execute_result"
    }
   ],
   "source": [
    "l5=[1,2,3,4]\n",
    "l5[0]\n"
   ]
  },
  {
   "cell_type": "code",
   "execution_count": 60,
   "id": "3df25e23",
   "metadata": {},
   "outputs": [
    {
     "data": {
      "text/plain": [
       "[30, 2, 3, 4]"
      ]
     },
     "execution_count": 60,
     "metadata": {},
     "output_type": "execute_result"
    }
   ],
   "source": [
    "l5[0] =30\n",
    "l5"
   ]
  },
  {
   "cell_type": "code",
   "execution_count": 63,
   "id": "75a5cde9",
   "metadata": {},
   "outputs": [
    {
     "data": {
      "text/plain": [
       "'s'"
      ]
     },
     "execution_count": 63,
     "metadata": {},
     "output_type": "execute_result"
    }
   ],
   "source": [
    "str = \"sudh\"\n",
    "str[0]"
   ]
  },
  {
   "cell_type": "code",
   "execution_count": 65,
   "id": "f3913019",
   "metadata": {},
   "outputs": [
    {
     "ename": "TypeError",
     "evalue": "'str' object does not support item assignment",
     "output_type": "error",
     "traceback": [
      "\u001b[1;31m---------------------------------------------------------------------------\u001b[0m",
      "\u001b[1;31mTypeError\u001b[0m                                 Traceback (most recent call last)",
      "\u001b[1;32m~\\AppData\\Local\\Temp\\ipykernel_16308\\1653030254.py\u001b[0m in \u001b[0;36m<module>\u001b[1;34m\u001b[0m\n\u001b[1;32m----> 1\u001b[1;33m \u001b[0mstr\u001b[0m\u001b[1;33m[\u001b[0m\u001b[1;36m0\u001b[0m\u001b[1;33m]\u001b[0m\u001b[1;33m=\u001b[0m\u001b[1;34m'a'\u001b[0m\u001b[1;33m\u001b[0m\u001b[1;33m\u001b[0m\u001b[0m\n\u001b[0m\u001b[0;32m      2\u001b[0m \u001b[0mstr\u001b[0m\u001b[1;33m\u001b[0m\u001b[1;33m\u001b[0m\u001b[0m\n",
      "\u001b[1;31mTypeError\u001b[0m: 'str' object does not support item assignment"
     ]
    }
   ],
   "source": [
    "str[0]='a'\n",
    "str"
   ]
  },
  {
   "cell_type": "code",
   "execution_count": 69,
   "id": "1586dd0a",
   "metadata": {},
   "outputs": [
    {
     "data": {
      "text/plain": [
       "'audh'"
      ]
     },
     "execution_count": 69,
     "metadata": {},
     "output_type": "execute_result"
    }
   ],
   "source": [
    "a = str.replace('s','a')\n",
    "a"
   ]
  },
  {
   "cell_type": "code",
   "execution_count": 70,
   "id": "e35e0944",
   "metadata": {},
   "outputs": [
    {
     "data": {
      "text/plain": [
       "'sudh'"
      ]
     },
     "execution_count": 70,
     "metadata": {},
     "output_type": "execute_result"
    }
   ],
   "source": [
    "str"
   ]
  },
  {
   "cell_type": "code",
   "execution_count": 71,
   "id": "ebf14cc2",
   "metadata": {},
   "outputs": [
    {
     "data": {
      "text/plain": [
       "'audh'"
      ]
     },
     "execution_count": 71,
     "metadata": {},
     "output_type": "execute_result"
    }
   ],
   "source": [
    "str = str.replace('s','a')\n",
    "str"
   ]
  }
 ],
 "metadata": {
  "kernelspec": {
   "display_name": "Python 3 (ipykernel)",
   "language": "python",
   "name": "python3"
  },
  "language_info": {
   "codemirror_mode": {
    "name": "ipython",
    "version": 3
   },
   "file_extension": ".py",
   "mimetype": "text/x-python",
   "name": "python",
   "nbconvert_exporter": "python",
   "pygments_lexer": "ipython3",
   "version": "3.9.13"
  }
 },
 "nbformat": 4,
 "nbformat_minor": 5
}
